{
 "cells": [
  {
   "cell_type": "code",
   "execution_count": 3,
   "metadata": {
    "collapsed": true
   },
   "outputs": [],
   "source": [
    "import pandas as pd\n",
    "from sklearn.feature_extraction import DictVectorizer\n",
    "import matplotlib.pyplot as plt\n",
    "import seaborn as sns\n",
    "%matplotlib inline\n",
    "from pandas.plotting import scatter_matrix"
   ]
  },
  {
   "cell_type": "code",
   "execution_count": 4,
   "metadata": {},
   "outputs": [
    {
     "data": {
      "text/html": [
       "<div>\n",
       "<style>\n",
       "    .dataframe thead tr:only-child th {\n",
       "        text-align: right;\n",
       "    }\n",
       "\n",
       "    .dataframe thead th {\n",
       "        text-align: left;\n",
       "    }\n",
       "\n",
       "    .dataframe tbody tr th {\n",
       "        vertical-align: top;\n",
       "    }\n",
       "</style>\n",
       "<table border=\"1\" class=\"dataframe\">\n",
       "  <thead>\n",
       "    <tr style=\"text-align: right;\">\n",
       "      <th></th>\n",
       "      <th>age;\"job\";\"marital\";\"education\";\"default\";\"housing\";\"loan\";\"contact\";\"month\";\"day_of_week\";\"duration\";\"campaign\";\"pdays\";\"previous\";\"poutcome\";\"emp.var.rate\";\"cons.price.idx\";\"cons.conf.idx\";\"euribor3m\";\"nr.employed\";\"y\"</th>\n",
       "    </tr>\n",
       "  </thead>\n",
       "  <tbody>\n",
       "    <tr>\n",
       "      <th>0</th>\n",
       "      <td>56;\"housemaid\";\"married\";\"basic.4y\";\"no\";\"no\";...</td>\n",
       "    </tr>\n",
       "    <tr>\n",
       "      <th>1</th>\n",
       "      <td>57;\"services\";\"married\";\"high.school\";\"unknown...</td>\n",
       "    </tr>\n",
       "    <tr>\n",
       "      <th>2</th>\n",
       "      <td>37;\"services\";\"married\";\"high.school\";\"no\";\"ye...</td>\n",
       "    </tr>\n",
       "    <tr>\n",
       "      <th>3</th>\n",
       "      <td>40;\"admin.\";\"married\";\"basic.6y\";\"no\";\"no\";\"no...</td>\n",
       "    </tr>\n",
       "    <tr>\n",
       "      <th>4</th>\n",
       "      <td>56;\"services\";\"married\";\"high.school\";\"no\";\"no...</td>\n",
       "    </tr>\n",
       "  </tbody>\n",
       "</table>\n",
       "</div>"
      ],
      "text/plain": [
       "  age;\"job\";\"marital\";\"education\";\"default\";\"housing\";\"loan\";\"contact\";\"month\";\"day_of_week\";\"duration\";\"campaign\";\"pdays\";\"previous\";\"poutcome\";\"emp.var.rate\";\"cons.price.idx\";\"cons.conf.idx\";\"euribor3m\";\"nr.employed\";\"y\"\n",
       "0  56;\"housemaid\";\"married\";\"basic.4y\";\"no\";\"no\";...                                                                                                                                                                          \n",
       "1  57;\"services\";\"married\";\"high.school\";\"unknown...                                                                                                                                                                          \n",
       "2  37;\"services\";\"married\";\"high.school\";\"no\";\"ye...                                                                                                                                                                          \n",
       "3  40;\"admin.\";\"married\";\"basic.6y\";\"no\";\"no\";\"no...                                                                                                                                                                          \n",
       "4  56;\"services\";\"married\";\"high.school\";\"no\";\"no...                                                                                                                                                                          "
      ]
     },
     "execution_count": 4,
     "metadata": {},
     "output_type": "execute_result"
    }
   ],
   "source": [
    "data = pd.read_csv(\"bank-additional-full.csv\")\n",
    "data.head()"
   ]
  },
  {
   "cell_type": "code",
   "execution_count": 5,
   "metadata": {},
   "outputs": [
    {
     "data": {
      "text/html": [
       "<div>\n",
       "<style>\n",
       "    .dataframe thead tr:only-child th {\n",
       "        text-align: right;\n",
       "    }\n",
       "\n",
       "    .dataframe thead th {\n",
       "        text-align: left;\n",
       "    }\n",
       "\n",
       "    .dataframe tbody tr th {\n",
       "        vertical-align: top;\n",
       "    }\n",
       "</style>\n",
       "<table border=\"1\" class=\"dataframe\">\n",
       "  <thead>\n",
       "    <tr style=\"text-align: right;\">\n",
       "      <th></th>\n",
       "      <th>age</th>\n",
       "      <th>job</th>\n",
       "      <th>marital</th>\n",
       "      <th>education</th>\n",
       "      <th>default</th>\n",
       "      <th>housing</th>\n",
       "      <th>loan</th>\n",
       "      <th>contact</th>\n",
       "      <th>month</th>\n",
       "      <th>day_of_week</th>\n",
       "      <th>...</th>\n",
       "      <th>campaign</th>\n",
       "      <th>pdays</th>\n",
       "      <th>previous</th>\n",
       "      <th>poutcome</th>\n",
       "      <th>emp.var.rate</th>\n",
       "      <th>cons.price.idx</th>\n",
       "      <th>cons.conf.idx</th>\n",
       "      <th>euribor3m</th>\n",
       "      <th>nr.employed</th>\n",
       "      <th>y</th>\n",
       "    </tr>\n",
       "  </thead>\n",
       "  <tbody>\n",
       "    <tr>\n",
       "      <th>0</th>\n",
       "      <td>56</td>\n",
       "      <td>housemaid</td>\n",
       "      <td>married</td>\n",
       "      <td>basic.4y</td>\n",
       "      <td>no</td>\n",
       "      <td>no</td>\n",
       "      <td>no</td>\n",
       "      <td>telephone</td>\n",
       "      <td>may</td>\n",
       "      <td>mon</td>\n",
       "      <td>...</td>\n",
       "      <td>1</td>\n",
       "      <td>999</td>\n",
       "      <td>0</td>\n",
       "      <td>nonexistent</td>\n",
       "      <td>1.1</td>\n",
       "      <td>93.994</td>\n",
       "      <td>-36.4</td>\n",
       "      <td>4.857</td>\n",
       "      <td>5191.0</td>\n",
       "      <td>no</td>\n",
       "    </tr>\n",
       "    <tr>\n",
       "      <th>1</th>\n",
       "      <td>57</td>\n",
       "      <td>services</td>\n",
       "      <td>married</td>\n",
       "      <td>high.school</td>\n",
       "      <td>unknown</td>\n",
       "      <td>no</td>\n",
       "      <td>no</td>\n",
       "      <td>telephone</td>\n",
       "      <td>may</td>\n",
       "      <td>mon</td>\n",
       "      <td>...</td>\n",
       "      <td>1</td>\n",
       "      <td>999</td>\n",
       "      <td>0</td>\n",
       "      <td>nonexistent</td>\n",
       "      <td>1.1</td>\n",
       "      <td>93.994</td>\n",
       "      <td>-36.4</td>\n",
       "      <td>4.857</td>\n",
       "      <td>5191.0</td>\n",
       "      <td>no</td>\n",
       "    </tr>\n",
       "    <tr>\n",
       "      <th>2</th>\n",
       "      <td>37</td>\n",
       "      <td>services</td>\n",
       "      <td>married</td>\n",
       "      <td>high.school</td>\n",
       "      <td>no</td>\n",
       "      <td>yes</td>\n",
       "      <td>no</td>\n",
       "      <td>telephone</td>\n",
       "      <td>may</td>\n",
       "      <td>mon</td>\n",
       "      <td>...</td>\n",
       "      <td>1</td>\n",
       "      <td>999</td>\n",
       "      <td>0</td>\n",
       "      <td>nonexistent</td>\n",
       "      <td>1.1</td>\n",
       "      <td>93.994</td>\n",
       "      <td>-36.4</td>\n",
       "      <td>4.857</td>\n",
       "      <td>5191.0</td>\n",
       "      <td>no</td>\n",
       "    </tr>\n",
       "    <tr>\n",
       "      <th>3</th>\n",
       "      <td>40</td>\n",
       "      <td>admin.</td>\n",
       "      <td>married</td>\n",
       "      <td>basic.6y</td>\n",
       "      <td>no</td>\n",
       "      <td>no</td>\n",
       "      <td>no</td>\n",
       "      <td>telephone</td>\n",
       "      <td>may</td>\n",
       "      <td>mon</td>\n",
       "      <td>...</td>\n",
       "      <td>1</td>\n",
       "      <td>999</td>\n",
       "      <td>0</td>\n",
       "      <td>nonexistent</td>\n",
       "      <td>1.1</td>\n",
       "      <td>93.994</td>\n",
       "      <td>-36.4</td>\n",
       "      <td>4.857</td>\n",
       "      <td>5191.0</td>\n",
       "      <td>no</td>\n",
       "    </tr>\n",
       "    <tr>\n",
       "      <th>4</th>\n",
       "      <td>56</td>\n",
       "      <td>services</td>\n",
       "      <td>married</td>\n",
       "      <td>high.school</td>\n",
       "      <td>no</td>\n",
       "      <td>no</td>\n",
       "      <td>yes</td>\n",
       "      <td>telephone</td>\n",
       "      <td>may</td>\n",
       "      <td>mon</td>\n",
       "      <td>...</td>\n",
       "      <td>1</td>\n",
       "      <td>999</td>\n",
       "      <td>0</td>\n",
       "      <td>nonexistent</td>\n",
       "      <td>1.1</td>\n",
       "      <td>93.994</td>\n",
       "      <td>-36.4</td>\n",
       "      <td>4.857</td>\n",
       "      <td>5191.0</td>\n",
       "      <td>no</td>\n",
       "    </tr>\n",
       "  </tbody>\n",
       "</table>\n",
       "<p>5 rows × 21 columns</p>\n",
       "</div>"
      ],
      "text/plain": [
       "   age        job  marital    education  default housing loan    contact  \\\n",
       "0   56  housemaid  married     basic.4y       no      no   no  telephone   \n",
       "1   57   services  married  high.school  unknown      no   no  telephone   \n",
       "2   37   services  married  high.school       no     yes   no  telephone   \n",
       "3   40     admin.  married     basic.6y       no      no   no  telephone   \n",
       "4   56   services  married  high.school       no      no  yes  telephone   \n",
       "\n",
       "  month day_of_week ...  campaign  pdays  previous     poutcome emp.var.rate  \\\n",
       "0   may         mon ...         1    999         0  nonexistent          1.1   \n",
       "1   may         mon ...         1    999         0  nonexistent          1.1   \n",
       "2   may         mon ...         1    999         0  nonexistent          1.1   \n",
       "3   may         mon ...         1    999         0  nonexistent          1.1   \n",
       "4   may         mon ...         1    999         0  nonexistent          1.1   \n",
       "\n",
       "   cons.price.idx  cons.conf.idx  euribor3m  nr.employed   y  \n",
       "0          93.994          -36.4      4.857       5191.0  no  \n",
       "1          93.994          -36.4      4.857       5191.0  no  \n",
       "2          93.994          -36.4      4.857       5191.0  no  \n",
       "3          93.994          -36.4      4.857       5191.0  no  \n",
       "4          93.994          -36.4      4.857       5191.0  no  \n",
       "\n",
       "[5 rows x 21 columns]"
      ]
     },
     "execution_count": 5,
     "metadata": {},
     "output_type": "execute_result"
    }
   ],
   "source": [
    "data = pd.read_csv(\"bank-additional-full.csv\", sep=';')\n",
    "data.head()"
   ]
  },
  {
   "cell_type": "code",
   "execution_count": 6,
   "metadata": {
    "collapsed": true
   },
   "outputs": [],
   "source": [
    "data_dict = data.T.to_dict().values()"
   ]
  },
  {
   "cell_type": "code",
   "execution_count": 7,
   "metadata": {},
   "outputs": [
    {
     "name": "stdout",
     "output_type": "stream",
     "text": [
      "signal_array\n"
     ]
    }
   ],
   "source": [
    "vec = DictVectorizer()\n",
    "signal_array = vec.fit_transform(data_dict).toarray()\n",
    "feature_names = vec.get_feature_names()\n",
    "# signal_array = data.as_matrix() #spits out a numpy matrix\n",
    "#feature_names = list(data)\n",
    "print('signal_array')"
   ]
  },
  {
   "cell_type": "code",
   "execution_count": 21,
   "metadata": {},
   "outputs": [
    {
     "data": {
      "text/html": [
       "<div>\n",
       "<style>\n",
       "    .dataframe thead tr:only-child th {\n",
       "        text-align: right;\n",
       "    }\n",
       "\n",
       "    .dataframe thead th {\n",
       "        text-align: left;\n",
       "    }\n",
       "\n",
       "    .dataframe tbody tr th {\n",
       "        vertical-align: top;\n",
       "    }\n",
       "</style>\n",
       "<table border=\"1\" class=\"dataframe\">\n",
       "  <thead>\n",
       "    <tr style=\"text-align: right;\">\n",
       "      <th></th>\n",
       "      <th>age</th>\n",
       "      <th>campaign</th>\n",
       "      <th>cons.conf.idx</th>\n",
       "      <th>cons.price.idx</th>\n",
       "      <th>contact=cellular</th>\n",
       "      <th>contact=telephone</th>\n",
       "      <th>day_of_week=fri</th>\n",
       "      <th>day_of_week=mon</th>\n",
       "      <th>day_of_week=thu</th>\n",
       "      <th>day_of_week=tue</th>\n",
       "      <th>...</th>\n",
       "      <th>month=oct</th>\n",
       "      <th>month=sep</th>\n",
       "      <th>nr.employed</th>\n",
       "      <th>pdays</th>\n",
       "      <th>poutcome=failure</th>\n",
       "      <th>poutcome=nonexistent</th>\n",
       "      <th>poutcome=success</th>\n",
       "      <th>previous</th>\n",
       "      <th>y=no</th>\n",
       "      <th>y=yes</th>\n",
       "    </tr>\n",
       "  </thead>\n",
       "  <tbody>\n",
       "    <tr>\n",
       "      <th>0</th>\n",
       "      <td>56.0</td>\n",
       "      <td>1.0</td>\n",
       "      <td>-36.4</td>\n",
       "      <td>93.994</td>\n",
       "      <td>0.0</td>\n",
       "      <td>1.0</td>\n",
       "      <td>0.0</td>\n",
       "      <td>1.0</td>\n",
       "      <td>0.0</td>\n",
       "      <td>0.0</td>\n",
       "      <td>...</td>\n",
       "      <td>0.0</td>\n",
       "      <td>0.0</td>\n",
       "      <td>5191.0</td>\n",
       "      <td>999.0</td>\n",
       "      <td>0.0</td>\n",
       "      <td>1.0</td>\n",
       "      <td>0.0</td>\n",
       "      <td>0.0</td>\n",
       "      <td>1.0</td>\n",
       "      <td>0.0</td>\n",
       "    </tr>\n",
       "    <tr>\n",
       "      <th>1</th>\n",
       "      <td>57.0</td>\n",
       "      <td>1.0</td>\n",
       "      <td>-36.4</td>\n",
       "      <td>93.994</td>\n",
       "      <td>0.0</td>\n",
       "      <td>1.0</td>\n",
       "      <td>0.0</td>\n",
       "      <td>1.0</td>\n",
       "      <td>0.0</td>\n",
       "      <td>0.0</td>\n",
       "      <td>...</td>\n",
       "      <td>0.0</td>\n",
       "      <td>0.0</td>\n",
       "      <td>5191.0</td>\n",
       "      <td>999.0</td>\n",
       "      <td>0.0</td>\n",
       "      <td>1.0</td>\n",
       "      <td>0.0</td>\n",
       "      <td>0.0</td>\n",
       "      <td>1.0</td>\n",
       "      <td>0.0</td>\n",
       "    </tr>\n",
       "    <tr>\n",
       "      <th>2</th>\n",
       "      <td>37.0</td>\n",
       "      <td>1.0</td>\n",
       "      <td>-36.4</td>\n",
       "      <td>93.994</td>\n",
       "      <td>0.0</td>\n",
       "      <td>1.0</td>\n",
       "      <td>0.0</td>\n",
       "      <td>1.0</td>\n",
       "      <td>0.0</td>\n",
       "      <td>0.0</td>\n",
       "      <td>...</td>\n",
       "      <td>0.0</td>\n",
       "      <td>0.0</td>\n",
       "      <td>5191.0</td>\n",
       "      <td>999.0</td>\n",
       "      <td>0.0</td>\n",
       "      <td>1.0</td>\n",
       "      <td>0.0</td>\n",
       "      <td>0.0</td>\n",
       "      <td>1.0</td>\n",
       "      <td>0.0</td>\n",
       "    </tr>\n",
       "    <tr>\n",
       "      <th>3</th>\n",
       "      <td>40.0</td>\n",
       "      <td>1.0</td>\n",
       "      <td>-36.4</td>\n",
       "      <td>93.994</td>\n",
       "      <td>0.0</td>\n",
       "      <td>1.0</td>\n",
       "      <td>0.0</td>\n",
       "      <td>1.0</td>\n",
       "      <td>0.0</td>\n",
       "      <td>0.0</td>\n",
       "      <td>...</td>\n",
       "      <td>0.0</td>\n",
       "      <td>0.0</td>\n",
       "      <td>5191.0</td>\n",
       "      <td>999.0</td>\n",
       "      <td>0.0</td>\n",
       "      <td>1.0</td>\n",
       "      <td>0.0</td>\n",
       "      <td>0.0</td>\n",
       "      <td>1.0</td>\n",
       "      <td>0.0</td>\n",
       "    </tr>\n",
       "    <tr>\n",
       "      <th>4</th>\n",
       "      <td>56.0</td>\n",
       "      <td>1.0</td>\n",
       "      <td>-36.4</td>\n",
       "      <td>93.994</td>\n",
       "      <td>0.0</td>\n",
       "      <td>1.0</td>\n",
       "      <td>0.0</td>\n",
       "      <td>1.0</td>\n",
       "      <td>0.0</td>\n",
       "      <td>0.0</td>\n",
       "      <td>...</td>\n",
       "      <td>0.0</td>\n",
       "      <td>0.0</td>\n",
       "      <td>5191.0</td>\n",
       "      <td>999.0</td>\n",
       "      <td>0.0</td>\n",
       "      <td>1.0</td>\n",
       "      <td>0.0</td>\n",
       "      <td>0.0</td>\n",
       "      <td>1.0</td>\n",
       "      <td>0.0</td>\n",
       "    </tr>\n",
       "  </tbody>\n",
       "</table>\n",
       "<p>5 rows × 65 columns</p>\n",
       "</div>"
      ],
      "text/plain": [
       "    age  campaign  cons.conf.idx  cons.price.idx  contact=cellular  \\\n",
       "0  56.0       1.0          -36.4          93.994               0.0   \n",
       "1  57.0       1.0          -36.4          93.994               0.0   \n",
       "2  37.0       1.0          -36.4          93.994               0.0   \n",
       "3  40.0       1.0          -36.4          93.994               0.0   \n",
       "4  56.0       1.0          -36.4          93.994               0.0   \n",
       "\n",
       "   contact=telephone  day_of_week=fri  day_of_week=mon  day_of_week=thu  \\\n",
       "0                1.0              0.0              1.0              0.0   \n",
       "1                1.0              0.0              1.0              0.0   \n",
       "2                1.0              0.0              1.0              0.0   \n",
       "3                1.0              0.0              1.0              0.0   \n",
       "4                1.0              0.0              1.0              0.0   \n",
       "\n",
       "   day_of_week=tue  ...    month=oct  month=sep  nr.employed  pdays  \\\n",
       "0              0.0  ...          0.0        0.0       5191.0  999.0   \n",
       "1              0.0  ...          0.0        0.0       5191.0  999.0   \n",
       "2              0.0  ...          0.0        0.0       5191.0  999.0   \n",
       "3              0.0  ...          0.0        0.0       5191.0  999.0   \n",
       "4              0.0  ...          0.0        0.0       5191.0  999.0   \n",
       "\n",
       "   poutcome=failure  poutcome=nonexistent  poutcome=success  previous  y=no  \\\n",
       "0               0.0                   1.0               0.0       0.0   1.0   \n",
       "1               0.0                   1.0               0.0       0.0   1.0   \n",
       "2               0.0                   1.0               0.0       0.0   1.0   \n",
       "3               0.0                   1.0               0.0       0.0   1.0   \n",
       "4               0.0                   1.0               0.0       0.0   1.0   \n",
       "\n",
       "   y=yes  \n",
       "0    0.0  \n",
       "1    0.0  \n",
       "2    0.0  \n",
       "3    0.0  \n",
       "4    0.0  \n",
       "\n",
       "[5 rows x 65 columns]"
      ]
     },
     "execution_count": 21,
     "metadata": {},
     "output_type": "execute_result"
    }
   ],
   "source": [
    "df = pd.DataFrame(signal_array,columns=feature_names)\n",
    "df.head()"
   ]
  },
  {
   "cell_type": "code",
   "execution_count": 38,
   "metadata": {},
   "outputs": [
    {
     "name": "stdout",
     "output_type": "stream",
     "text": [
      "Feature ranking:\n",
      "1. feature age (0.164047)\n",
      "2. feature emp.var.rate (0.117021)\n",
      "3. feature campaign (0.083560)\n",
      "4. feature month=sep (0.049478)\n",
      "5. feature nr.employed (0.034052)\n",
      "6. feature cons.conf.idx (0.027570)\n",
      "7. feature cons.price.idx (0.023012)\n",
      "8. feature poutcome=nonexistent (0.022943)\n",
      "9. feature education=unknown (0.022474)\n",
      "10. feature euribor3m (0.021194)\n",
      "11. feature housing=unknown (0.021185)\n",
      "12. feature housing=yes (0.017653)\n",
      "13. feature marital=divorced (0.016720)\n",
      "14. feature education=basic.9y (0.016283)\n",
      "15. feature education=professional.course (0.016191)\n",
      "16. feature marital=married (0.014782)\n",
      "17. feature day_of_week=mon (0.014618)\n",
      "18. feature day_of_week=wed (0.014473)\n",
      "19. feature poutcome=success (0.014427)\n",
      "20. feature day_of_week=thu (0.014243)\n",
      "21. feature day_of_week=tue (0.014166)\n",
      "22. feature job=student (0.014008)\n",
      "23. feature job=unknown (0.014003)\n",
      "24. feature loan=unknown (0.013831)\n",
      "25. feature day_of_week=fri (0.013753)\n",
      "26. feature education=illiterate (0.011851)\n",
      "27. feature job=admin. (0.011798)\n",
      "28. feature education=basic.6y (0.011275)\n",
      "29. feature loan=yes (0.010415)\n",
      "30. feature job=housemaid (0.009447)\n",
      "31. feature job=self-employed (0.009024)\n",
      "32. feature contact=telephone (0.008300)\n",
      "33. feature duration (0.008157)\n",
      "34. feature contact=cellular (0.007694)\n",
      "35. feature pdays (0.007676)\n",
      "36. feature poutcome=failure (0.007590)\n",
      "37. feature default=unknown (0.007252)\n",
      "38. feature default=no (0.007184)\n",
      "39. feature job=management (0.007027)\n",
      "40. feature education=basic.4y (0.006778)\n",
      "41. feature education=university.degree (0.006760)\n",
      "42. feature job=retired (0.006212)\n",
      "43. feature job=blue-collar (0.005778)\n",
      "44. feature month=nov (0.005462)\n",
      "45. feature job=services (0.005384)\n",
      "46. feature job=technician (0.004991)\n",
      "47. feature month=mar (0.004532)\n",
      "48. feature job=entrepreneur (0.004431)\n",
      "49. feature month=jun (0.004220)\n",
      "50. feature marital=unknown (0.003309)\n",
      "51. feature month=jul (0.003013)\n",
      "52. feature month=dec (0.002521)\n",
      "53. feature month=apr (0.002500)\n",
      "54. feature loan=no (0.002475)\n",
      "55. feature housing=no (0.002460)\n",
      "56. feature month=oct (0.002417)\n",
      "57. feature job=unemployed (0.002256)\n",
      "58. feature month=may (0.002140)\n",
      "59. feature month=aug (0.000844)\n",
      "60. feature marital=single (0.000843)\n",
      "61. feature education=high.school (0.000297)\n",
      "62. feature default=yes (0.000001)\n"
     ]
    },
    {
     "data": {
      "image/png": "iVBORw0KGgoAAAANSUhEUgAAAX0AAAEFCAYAAAAPCDf9AAAABHNCSVQICAgIfAhkiAAAAAlwSFlz\nAAALEgAACxIB0t1+/AAAIABJREFUeJzt3XucHFWZ//HPTIYQAhMBnYAKEm4+XhDUiRDklhVQQVhA\nXC8RL9EsRt1dFdgfiiDg/UJgXRSQxIi6oPwEokENQREEEhCIqAHJAwhNhIVlZBMTjQKT6f3jeXrS\n6XTP9CSTuaS+79crr3SdOqfq1KlTT5063dPdUi6XERGRYmgd7gqIiMjQUdAXESkQBX0RkQJR0BcR\nKRAFfRGRAlHQFxEpkLbhroBs+cysDNwDrK1KvsvdZ2zk9l4DvN/dZw5G/eps/x+BI9z93zbH9vvY\n7+7Aee5+4lDuV4pFQV+Gyj+4+58GaVsvB3YZpG1twN3nA/M31/b7sBtgw7BfKZAW/XGWbG450u+o\nF/TN7KXAV4HnAmOA/3T3uWbWClwATAHagRZgBrAcWAQ8B7gG+DbwNXffJ7c3tbJsZucABwLPB37n\n7ieZ2SeBE4mpzRLwIXf/75o6vRd4i7sfY2Y3AUuA1wETs647AYcB2wJvdfelme/3wGTgecB33f3s\n3N7xwNl5fKuAU9z9jpr63Qu8BnghcLO7v8HMzgCOB8blvk5z93lZblKW2w3oAt7m7v9tZi8GvpF1\n7QE+6+5XmtkLga8BLwK2Ar7v7p83szbgQuBg4BngIWC6u/+l0fmU0U1z+jJUbjSz31T9m5gB5yrg\n4+7eSQTS08xsCnAA8ALgQHd/GRHcP+7ufwQ+Bdzi7tOb2O9uwKsz4L8beAWwv7u/EvgpMKeJbUxy\n91cBbwa+BNzk7pOB64B/rdnXQcCrgbeZ2TFm9hLgEuBEd9836/4jM5tQU793EDe1P2TA3w04Ajgs\ny30S+HTVvg4B/sndXwKsAD6Q6d8HfuDuLweOBj6f+/ouMDfbeX/gCDN7K3HTmQrsm+seAvZtok1k\nlNL0jgyVDaZ3zOxlwJ7AXLPeWY1tgFe5+8VmdibwATPbkwhMqzdiv7e7e3e+PoYIeHfl/sYA45vY\nxjX5/x/y/+uqlqdW5fuGuz8LrDSzHwBvIEbWN7j7QwDu/gszexLorFO/Xu7+iJm9B3inme1FPPFs\nV5XlJndfla/vBnY0sx2B/cgbWd4g9zSzbYkb6o5m9pkssx3wSuB64r2WX5nZQuBqd7+jiTaRUUoj\nfRlOY4CV7v7Kyj8iuH3LzN4E/CTz/YgYLbfU2Ua5Jn1szfrqaYoxwJeq9jWZGJn35+nqhQzs9VQH\n71YimNa7xlqJKZba+vUys1cDi4EJRGD+Eusf59+qXlfaoLtqubIdIwZ3LcBra9r58+6+krhRnJb1\nvdLMPtbg+GQLoKAvw8mBv5vZSQBmtivxKZ9O4EjgWne/GLiTmNsek+W6WRc0u4AX5XRRS+ZrZCEw\no2pq5dPEtMdgOcnMWs1sB+CtwLXAL4DXm9keAGb2OmBX4Fd1ylcf16HEJ5zOB37J+sdfV478lwDv\nyX3tSrz/sQ1wO3BKpm+f6ceZ2THADcBidz8H+A5xE5AtlIK+DBt3fwY4jgjEvyNGtGe5+yJiZH9Y\npt9GTKXsnm/w3ga8xMzmufvviTcu7yIC2+N97HIO8GPgdjO7l5i7fu8gHtI2wB1Zj4vc/Yas34eA\na8zsHuCLwLHu/uc65e8F1prZHcD3gOeZ2e+JQP4XYnqmvZ86TAPeama/JW46M9z9iUyfYmZLiRvO\n99z9cmBB7vceM7sLeC1wzsY3gYx0+vSOyCDIT+98zd2vGu66iPRFI30RkQLRSF9EpEA00hcRKRAF\nfRGRAhnRf5zV1bW67tzTDjuMZ8WKNRuVVvTyI7FORS8/Eus02suPxDoNZfmOjvZ6f9MCjNKRflvb\nhh9Xbjat6OVHYp2KXn4k1mm0lx+JdRrK8n0ZlUFfREQ2joK+iEiBKOiLiBSIgr6ISIH0++md/K6T\ni4gvYXqa+C6PB2vyjAd+RvyE3bL8EYr35upxxFe47gzsTnz3yQO57mJ3v3LTD0NERJrRzEc2jwfG\nufuB+eMWs4gvyQLAzCYTX47V+/N17n4ZcFmu/zrx4w0rzawTON/dZw3aEYiISNOamd45mPzRCHe/\nnfgO8mpbAycAy2oL5g3h5e5+aSZ1Am8ys5vN7JtNfGOgiIgMon6/e8fM5hC/prMgl5cDe9T+2k9+\ny+BMd19WlXYNcKG735jL04nfKl2Sv1W6g7uf1mjf3d1rywP9DKqIiNT9wSGguemdVcQPU1e01vt5\nt1r5Qw1WCfhpXv5SD8A84geZG6r3F2mdnfvQ2trCnXcuXS+9o6Odrq7V/aYNJO+WWH4k1qno5Udi\nnUZ7+ZFYp6Eu30gz0zuLiB9YJuf0l/advdehxC/yVFtoZvvn68OJH4cQEZEh0sxIfx5wpJktJh4Z\nppvZNGC7qrn6egx4qCbtg8CFZvYs8ARw8kbUWURENlK/Qd/de4CZNckbvGnr7lNrlr9SJ8+vae6H\nqEVEZDPQH2eJiBSIgr6ISIEo6IuIFIiCvohIgSjoi4gUiIK+iEiBjOjfyK3VMXFC712qY+IEup5c\nNaz1EREZbbaIkX5n5z5MmjRpuKshIjLibRFBX0REmqOgLyJSIAr6IiIFoqAvIlIgCvoiIgWioC8i\nUiAK+iIiBaKgLyJSIAr6IiIFMqq+hgGgNNwVEBEZxTTSFxEpkH5H+mbWClwE7Ac8Dcxw9wdr8owH\nfga8392XZdqvgco3oj3s7tPNbC/gMqAM3AN8OH+DV0REhkAzI/3jgXHufiDwcWBW9UozmwzcDOxZ\nlTYOaHH3qflveq46HzjT3Q8BWoDjBuEYRESkSc0E/YOB6wDc/XZgcs36rYETgGVVafsB483sejP7\nhZlNyfRO4Jf5egFwxMZWXEREBq6lXC73mcHM5gBXu/uCXF4O7OHu3TX5bgJmuvsyM3sFMAWYA+xN\nBHgDlrv7CzL/64D3uftJjfbd3b223NY2pqq2LetnyLpXvla5VCr1eSwiIgXR0mhFM5/eWQW0Vy23\n1gb8Ou4HHnT3MnC/mT0FPB+onr9vB1b2tZEVK9ast9xRs76razUAPT1lWltbepd783e0b5DWKL3Z\ntNFefiTWqejlR2KdRnv5kVinoS7fSDPTO4uAowFymmZpE2XeR879m9kLgAnA48DdZjY18xwF3NLE\ntkREZJA0E/TnAX83s8XABcDHzGyamZ3cR5lvAtub2a3AlcQ0TjdwKnCumd0GjAWu2rTqi4jIQPQ7\nvZMfqZxZk7ysTr6pVa+fAabVyXM/cNiAaykiIoNCf5wlIlIgCvoiIgWioC8iUiAK+iIiBaKgLyJS\nIAr6IiIFoqAvIlIgCvoiIgWioC8iUiAK+iIiBaKgLyJSIAr6IiIFoqAvIlIgCvoiIgWioC8iUiAK\n+iIiBaKgLyJSIAr6IiIFoqAvIlIg/f5Grpm1AhcB+wFPAzPc/cGaPOOBnwHvd/dlZrYVMBeYBGwN\nfNbd55vZq4AfAw9k0Yvd/crBOhgREelbv0EfOB4Y5+4HmtkUYBZwXGWlmU0GLgF2qSpzEvCUu7/L\nzHYEfgPMBzqB89191mAdgIiINK+Z6Z2DgesA3P12YHLN+q2BE4BlVWk/AM7K1y1Ad77uBN5kZjeb\n2TfNrH1jKy4iIgPXUi6X+8xgZnOAq919QS4vB/Zw9+6afDcBM919WVVaOzHCn+3uV5jZdOB37r7E\nzD4J7ODupzXad3f32nJb25iq2rasnyHrPmnSJABKpVKfxyIiUhAtjVY0M72zCqgekbfWBvx6zGxX\nYB5wkbtfkcnz3H1l5TVwYV/bWLFizXrLHTXru7pWA9DTU6a1taV3uTd/R/sGaY3Sm00b7eVHYp2K\nXn4k1mm0lx+JdRrq8o00M72zCDgaIOf0l/ZXwMx2Aq4HTnf3uVWrFprZ/vn6cGBJE/sXEZFB0sxI\nfx5wpJktJh4ZppvZNGA7d7+0QZkzgB2As8ysMrd/FPBB4EIzexZ4Ajh5k2ovIiID0m/Qd/ceYGZN\n8rI6+aZWvf4I8JE6m/s1cNDAqigiIoNFf5wlIlIgCvoiIgWioC8iUiAK+iIiBdLMp3dGtI6JE3rv\nXB0TJ9D15KphrY+IyEimkb6ISIEo6IuIFIiCvohIgSjoi4gUiIK+iEiBKOiLiBSIgr6ISIEo6IuI\nFIiCvohIgSjoi4gUiIK+iEiBKOiLiBSIgr6ISIEo6IuIFEi/X61sZq3ARcB+wNPADHd/sCbPeOBn\nwPvdfVmjMma2F3AZUAbuAT6cv8E7ZDo796G1tYU771w6lLsVERkRmhnpHw+Mc/cDgY8Ds6pXmtlk\n4GZgzybKnA+c6e6HAC3AcZtWfRERGYhmgv7BwHUA7n47MLlm/dbACcCyJsp0Ar/M1wuAIzaq1iIi\nslFayuVynxnMbA5wtbsvyOXlwB7u3l2T7yZgZk7v1C0DLHf3F2Ta64D3uftJjfbd3b223NY2pqq2\nLetnKJehpYVJuViqpPVh0qTIXSqV+swnIjKKtTRa0czPJa4C2quWW2sDfrNlzKx6/r4dWNnXRlas\nWLPeckfN+q6u1XXTevN3tK+3DNDTU6a1tWWD9Hp566UNJO9ILD8S61T08iOxTqO9/Eis01CXb6SZ\n6Z1FwNEAZjYFaOYd0EZl7jazqfn6KOCWJrYlIiKDpJmR/jzgSDNbTDwyTDezacB27n5ps2Uy/VRg\ntpmNBe4Drtqk2ouIyID0G/TzI5Uza5KX1ck3tZ8yuPv9wGEDrqWIiAwK/XGWiEiBKOiLiBSIgr6I\nSIEo6IuIFIiCvohIgSjoi4gUiIK+iEiBbLFBv7Nzn97v2RERkbDFBn0REdmQgr6ISIEo6IuIFIiC\nvohIgSjoi4gUSDNfrTzqdEyc0Hs365g4AYCuJ1cNX4VEREYIjfRFRApEQV9EpEAU9EVECkRBX0Sk\nQBT0RUQKZIv89A5AabgrICIyAvUb9M2sFbgI2A94Gpjh7g9WrT8W+BTQDcx199lm9l7gvZllHPBK\nYGdgd+DHwAO57mJ3v3JQjkRERPrVzEj/eGCcux9oZlOAWcBxAGa2FXAB8Brgr8AiM5vv7pcBl2We\nrxM3g5Vm1gmc7+6zBv1IRESkXy3lcrnPDGZ2PnCHu38/lx9z9xfm632BL7v7G3P5AmCxu/8glycD\n57n71Fy+GDDiZvMA8FF3X91o393da8ttbWOqatuyfoZyGVpamJSLpaq0DeRxVr5uuVQq9XncIiKj\nWJ0gGJoZ6U8A/ly1vNbM2ty9u8661cBzqpbPAM6tWr4DmOPuS8zsk8DZwGmNdrxixZr1ljtq1nd1\nrW4qrZIO0NNTprW1pXe5d9sd7U2lDSTvSCw/EutU9PIjsU6jvfxIrNNQl2+kmU/vrAKqt9CaAb/e\nunZgJYCZbQ+Yu99YtX6euy+pvAZe1cT+RURkkDQT9BcBRwPknP7SqnX3AXub2Y5mNhY4FLgt1x0K\n3FCzrYVmtn++PhxYgoiIDJlmpnfmAUea2WJinmi6mU0DtnP3S83sFGAhcQOZ6+6PZTkDHqrZ1geB\nC83sWeAJ4OTBOAgREWlOv0Hf3XuAmTXJy6rWXwtcW6fcV+qk/Ro4aODV7FtpsDcoIrKF0l/kiogU\niII+0Nm5T+9HOUVEtmQK+iIiBaKgLyJSIAr6IiIFoqAvIlIgCvoiIgWioC8iUiAK+iIiBaKgLyJS\nIAr6IiIFoqAvIlIgCvoiIgWioC8iUiAK+iIiBaKgLyJSIAr6IiIFoqDfwEC+Y1/fxy8io4WCvohI\ngfT7G7lm1gpcBOwHPA3McPcHq9YfC3wK6CZ+GH12pv8aWJXZHnb36Wa2F3AZUAbuAT6cv8ErIiJD\noN+gDxwPjHP3A81sCjALOA7AzLYCLgBeA/wVWGRm84E/Ay3uPrVmW+cDZ7r7TWZ2SW5n3qAciYiI\n9KulXC73mcHMzgfucPfv5/Jj7v7CfL0v8GV3f2MuXwAsBpYD3wEeIW4sZ7j77Wb2GLCLu5fN7Djg\n9e7+4Ub77u5eW25rG1NV25b1M5TLzaVV0qF37r1UKvWuajatkYHkFREZAnWCYGhmpD+BGLlXrDWz\nNnfvrrNuNfAcYA1wHjAH2BtYYGZGjP7LNXkbWrFizXrLHTXru7pWN5XWmz5xwrqElha6nozZp56e\nMq2tLXR1re5dXS+ttx4d7f3m7ezch9bWFu68c2m/5QeStqnlN8c2VV7nZKSVH4l1GuryjTQT9FcB\n1VtozYBfb107sBK4H3gwA/z9ZvYU8Hygp05eEREZIs18emcRcDRAzulXD13vA/Y2sx3NbCxwKHAb\n8D5i7h8zewHxRPA4cLeZTc2yRwG3DMIxiIhIk5oJ+vOAv5vZYuJN24+Z2TQzO9ndnwVOARYSwX6u\nuz8GfBPY3sxuBa4E3pdPB6cC55rZbcBY4KrBPyQREWmk3+md/EjlzJrkZVXrrwWurSnzDDCtzrbu\nBw7bqJqKiMgm0x9niYgUiIK+iEiBKOiLiBSIgv4A6cvVRGQ0U9AXESkQBX0RkQJR0BcRKRAFfRGR\nAlHQFxEpEAV9EZECUdAXESkQBX0RkQJp5vv0t2gdEyf03vk6Jk7o/WEVEZEtkUb6IiIFoqAvIlIg\nCvoiIgWioC8iUiAK+iIiBaKgLyJSIP1+ZNPMWoGLgP2Ap4EZ7v5g1fpjgU8B3cQPo882s62AucAk\nYGvgs+4+38xeBfwYeCCLX+zuVw7i8QwKfYxTRLZUzXxO/3hgnLsfaGZTgFnAcQAZ3C8AXgP8FVhk\nZvOBo4Gn3P1dZrYj8BtgPtAJnO/uswb/UEREpD/NBP2DgesA3P12M5tcte6lwIPuvgLAzG4FDgV+\nAFyVeVqIpwCIoG9mdhwx2v+ou6/e5KMQEZGmtJTL5T4zmNkc4Gp3X5DLy4E93L3bzA4G/tXd35br\nPg0sd/c5udxOjPBnu/sVZjYd+J27LzGzTwI7uPtpjfbd3b223NY2pqq2LetnKJebS6tKn5SLpYGm\npcpPJZZKpQGnNTKQvMNptNRTRKgTBEMzI/1VQHvVcqu7dzdY1w6sBDCzXYF5wEXufkWun+fuKyuv\ngQv72vGKFWvWW+6oWd/VtbqptIHkbZRW0dNTprW1ZaPSIH5jt7W1hTvvXNpv3o6O9g3SGqVvSlqz\neRvVc6j2v6WWH4l1Gu3lR2Kdhrp8I818emcRMUdPzukvrVp3H7C3me1oZmOJqZ3bzGwn4HrgdHef\nW5V/oZntn68PB5Y0sf8Ro2PiBFr/uBweeYSOiRMGlCYiMhI0M9KfBxxpZouJR4bpZjYN2M7dLzWz\nU4CFxA1krrs/ZmZfBXYAzjKzs3I7RwEfBC40s2eBJ4CTB/l4RESkD/0GfXfvAWbWJC+rWn8tcG1N\nmY8AH6mzuV8DBw28mqNfZcRf+1FQfTxURIaS/jhrhOrs3Kf3jdNm0kVEmqGgv4XSzUFE6lHQH2Kl\n/Ndf2kA0G+B1IxCRwv9y1kg01PP89T5GKiJbJo30R4mOiROG9COjA3kqqJe32bTBKC8izVPQH6FK\nbNqUj4xuusHJ5qLpnS1AqYk8tVNGQMOPjDaTtqnlK1NWm2sqS1NWIvUp6I8ypUHONxIN5KYBzQf4\nkXgjGIl1ki2bgr7UvUHUS9tc5YfbpgZeBW4ZTRT0C6Q0QvdfL72ZtIH8lfNI+Mtn3RxkJFDQl8Jq\ndNOA+gFaQVu2BPr0jox6JZr7g7d6afUM9UdeN2Wbo/1TPqO9/qORgr4UXon+bwaj7euyhyqYDmXQ\n1g1icGh6R6SOUhN5NvU9hYF8DHYwaMpKQEFfpGmlYdz3UP7tBOgGsSXT9I7IZlBi+D8ttbEG46s9\nhur9hy3xfY7NTSN9kS1QaRPS+kqv1ujpATb9x4JGy1PFaKlnNQX9ASoNdwWGUWm4K1BwpSbThnL/\nA8lbm7Y5bxrSmKZ3RDZRieYCYrP5ZOM/UVWbVj0VtTm+DXYgRsq0U78jfTNrBS4C9gOeBma4+4NV\n648FPgV0Ez+MPrtRGTPbC7gMKAP3AB/O3+AVEdlshvKLBSdlWinLNtr/cGlmpH88MM7dDwQ+Dsyq\nrDCzrYALgNcDhwEnm9lOfZQ5HzjT3Q8BWoDjButAREajEqN79F9i9NS/xKb9EV+j9Gbz1Usfjjei\nm5nTPxi4DsDdbzezyVXrXgo86O4rAMzsVuBQ4MAGZTqBX+brBcTNYt6mHsTmUBruCohIv0rDXYFN\n0OhJYXklQ837HJMyuQSb9KTQTNCfAPy5anmtmbW5e3eddauB5zQqA7S4e7kmb0M77DCetrYx6xLK\n5fXWdzSZtl565Q5aKvWmlZrZZl/7qrPNummN6rSpxzQKy/fbpsNQp5FUvjQM+x+WczKA66TU5DZL\nUDd9c9S/qTptavlM2yBv9XJH+wb1bqSZoL8KqN5iawb8euvagZWNyphZT528Da1YsaZuekdHO11d\nqzcqraenTGtry0aXr5deb5uN9rOp9d/U8ptjmyqvc7Kx5e+8c6nadDOVb6SZOf1FwNEAZjYFqP5A\n6n3A3ma2o5mNJaZ2buujzN1mNjVfHwXc0sT+RURkkDQz0p8HHGlmi4k3X6eb2TRgO3e/1MxOARYS\nN5C57v6YmW1QJrd1KjA7bxD3AVcN8vGIiEgf+g36+ZHKmTXJy6rWXwtc20QZ3P1+4lM+w2bJknsa\nPjqJiGzp9MdZm8mSJfdQKpWGuxoiIutR0BcRKRAFfRGRAlHQFxEpEAX9QaD5exEZLRT0RUQKREFf\nRKRAFPRFRApEQV9EpEAU9EVECkRBX0SkQBT0RUQKREFfRKRAFPRFRAqkpVzn58FERGTLpJG+iEiB\nKOiLiBSIgr6ISIEo6IuIFIiCvohIgSjoi4gUiIK+iEiBtA13BZplZq3ARcB+wDPACuC5wNbAZ4EH\ngUuBFuABYAbQCXwJmACsyk09DJwO3J/LLcDPgG5g50yblP//sWr7PwFmAwaUgbuAA4CxWa9FwM2Z\n/+/AycBjWW7r3M+/uPt3zWwr4Bd5LMty+3cBv8q6tgKnAq/LOm2V+1oI/HseZzuwE7AL8F/A87Nu\n2wN/BaYDvwcuI87zPsBr3P2+bM9pwKeBR/NYxwGvBN4EnOXuU81sL+DnwI7A08An3H1Olr8g2/ng\nbK+1wD+7+zIz2xr4FrAHsCvwBPA3YCbwpzzO7bNN3go8CVwC9AAvB/avqucFgLv7JWb2CeAfs80X\nAAdnPV8NfAN4Udbj0WzT5bndcdlWLwSel+dxIvBq4BigC7gQ2Cvz3g+8H7gv874h63+8u99T1X7/\nmue20rdWA+3uPjWXe/O5+4FmNhFYkvm7MsvDwFeznvvkNjzTL8z0sVnvFwH7Zvp4YHfgpe7+P2Y2\nBvht1v+JbOu22ry5jV8S11Brbv8TtceZ52I2sDfR3x/JNn0UuAV4FvgLce3MyLwHEf3wtUSf/XHu\nYzzwOPAW4Eyij63Nuv53pv8U2Cb3ezxx7VxG9Mk/E33tYXefnu16CdF3Xgv8Lxtezx+npu/n9i8h\n+rLn8R4JnMOG19mpbHg9L89jmpD1fwy4A/ha5u3OOnyGuG4WZdoa4DrgK8S1O5bs57nPSzLfcuCQ\nrNM2ua8ngD2BD2Sda/vzS6iJe+5eqUddo2mkfzwwzt0PJBr4Fe5+CPBGotE/D5zh7gdl/m8Cc4jG\na3H3qflvOjALWOHu2+d2v+Xub8+L9QSiXa6v2f6xALn9q4C3E538MCKwfQ+42d2fQ3TgOUQw/nnu\n5xzg61m3M4DdiKBc2f7/B36X5d8JfNbd3050gBVEp/hiHufSrOMY4NjMdxkwj7iJHJzbPB84m7jg\nuoHDAczsVURQ+1OlXYhg9GPgP4hOBfBt4qLcHvgRcISZdZjZAiL47gO0uftriRvI57LcPxMB4YvA\nbUSgPzPXXwH8IY/zU9kulxIX2eNEMDqmZj+Y2VTiAj8oj/Ofq+p5KXB9noO5ee6/lsd+b7bTVkSw\n+TLwfeJiepK4MX0VuIa4kXycCHCfy/PweuKin185vqr2ayX7FnHOJ1XVqTpfS97ov5Hbqu2PZwNf\nIC7aXwCzMv1S4M6sP8C0rOtdROBYCZxuZh1E8HkRcF5VW2+QF/gQcFf2yUlEP653nJ8nrrMrsl0u\nzDadDTyW5S8DbiCujR2JG8KjWb4zz8mCPNczM/29xABtd6KvHgR8B7g981XO3/lEn3oAuBb4qrtP\nz35xHXASceOBOtcz9fv+pcBHicHUweSgt8F1Vu967gT+E3jQ3bd395fneZoO3Jt5jyMC97nAE5n2\nC6J/fR44i7hZdAP/kHX8dL4+hHUxuRP4dZ67Ze5+JfX7c23cO5Z+jKagfzBxt4QYvW+Tr1uIBjzR\n3W82s7HEXfsh4M3AtsB4M7vezH5hZlOIQL2tmT0FXE6MjCvOJU76qdXbd/cfEnd7iA70JBF8riWC\n5U7EyYe4EMYSJ2Vmpm0FrDWz5xId/Z9q6r8zcKuZ/TzXVep0Xq4vEaPDE4lRxNtym3/OfD/I/y/M\nunUTHecfidHBH4EDc/+fJzo/AGY2mRh5fC/brGJf4KY8zgOI/rIdEai/m/tpy6ewCay7CF9GXOw/\nJILKS4mb3EriBvnTPM4TgD8QTytvyXo+lvWu3g/EqGxp1uXtVe1Klv8CcUEtAqbk8d9N3HzenHV/\nNtv+g1mfNiJYvt3dLyDObxvRt1YSI9q3Zh12BFbWtF9v3wLeRfSdSpvWtvN5eXyrgG1q+uPdxIh2\nPBF8PpPpuxAB483EE8DBeey3ZloLEai3I4L5f+S+Km1dL283UDazm4kAtrbecRL97HNEQNo5999N\n3CjKeczH5LZvIW52H2XdDaYz67GXmX2TeApdSTzdjgd+Q4yid8tjfkvWvYMYGXcSfXs80fcuzDbZ\nLrczj3V9v971vEHfB3Zx98V5Lr5LPMFU1F5n9a7nTuLaNDN71Mx+mXUaA/w12/Rcos89wbq+8Xpi\ntH4icVOak+2+mjj3O+b+HwWeyn12Zlv/DdjDzNqp359r416lTRoaTUF/AnlA7v4XoNvMtidG3We6\n+1oz2436imZcAAAIi0lEQVS4Ez6PGJU8SzTueUTQmEl0il2JaZfnEcHyGjNry8fvw4FvuPvqbOir\niJET7t5tZt/ObT1LdIDKNluqypwKLHX3P2TaEcRd+hPEKOYjwP8Q7V/Z/m5ERzmBCEx3m9l7iQtg\n71yHu68lRm8/IQLUb7N9xgOH5vYq2xwPdLn7wmyHCbn/U4gOV3EGcK67X826wE3Wb3Ie51fyuEvu\n/qtc/zTRMZcRI8D/zPTfEKP1liy/C3EzujzzP0UE9wOIC281sG3W87nANu7+cNV+yHNVqcuJxDmt\neAjodPfVxAVxVB7/A0Qwvo64Qd5EjDD/5O6vJoLgDHd/PLezPxHopgKXZx0WExfq24hRb3X7Vfet\nE4kRJznVUp2vo+o89BCj2er++HDmnZCvT8r0h4inpGeBHbKNHs/z9AriIr+gqq16gPdU2rpeXmBx\n7utNxJPTvXWO8/LsZ88lpuImEn36TCKAzs/630sEtG8DHyP6+KSs+x3Av7v7ocCriL5xOdGfv0EE\nrxMyrSuvrZ8STx2fIW5Sa7J9TyWeRC8nRsT3EIOFiudTcz2zYd9vBx4ysy8QQf2FZPyrd50B1F7P\neUxfIa7fi4knlsuJEflpee4qU75/yPP5IuJp+d/y3DxD3Jy3IqZrHiBuTNOyPitz93cQT0VvJfrp\n2dTpz3XiXiUeNDSagv4q4sRVbEWMeL/r7lcAuPsj7r430YjnZ76/A//l7mV3v58IOD3EjaJMPKK2\nEh3nLcAV2ZC7AjdWbz/38R6i0+4ObOXunvt4TlWZW4jAh5l9iLhIziU6x95Eh7mGuJs/m9t/igjm\nNxKPu+OA92WdtiFGgt8xs53d/RGi8/9P1XG+hej4N1TVeTxwpJndRMxXH0MEgIuJKY6XmdnFgLn7\njXXafC2w0N2fIW64zxIBrOLwXP9iYgT3bTMbRwS1VdkOJ+RxvZi4MawE5mc7HkMEy1XAm82s8j7N\nAWa2M+t7qlKXbPOnWfee1HTgE2Z2KxHMfpfH/1XikflwInjOIs79TtkmzwPeaWY7m9nbiH7z6jxH\ns81s29z+D4mL7od5nJX22x3Yt6pvrWDdiHDvqny7ATNzn3sTI9Cdqvrjd4jR6h75+oOZ/on8dzkx\nCv0TQNb1c8Rjf+W9gYpvV9razLatk3ce8YR2I3Fj2qaqbOU4Z5vZttnPXkeMRFuzTU/KNvg5EYS2\nJZ7kLiZu7n8jBh3Xu/uS3O5JRBCbTYxm1xLX2bI8zudnPXchRuTnZb3uJ6ZI24mbzVPE3PaRREDc\nJdtrLRtez9uzft8/INvyA0QQPzrzfCfT1rvOgIl1rud52Ub/la8nZZ2uc/cl2adfT/TrfwcOcffK\nnPu2uZ/9iQHPGGKW4NvEoOn3xI39gNz/gqr2W0HcOOv150Zxr6HRFPQXEScKMzuK6Ainu/vcTJtv\nZntn3tXExQ0RpCojsBcQd9/fEo0NcYLWEnN/RwALzGwnYj6yevvvyjcSIeY6twF6cpvbEh3jVmLe\ndCxwSwb884Bp7v5ld7/D3V9OjKYmEG9Qvj63eSdxBz+dOMn35ihpKdEhfwO8G7i06jh7qo7zTcQo\nuLfOeQxn55zzKuAUd98zl99OdLQFxI2invuAd+SI/UQi8DxVtX4N6x4n/5e4EY8h3jS7gbg5bkuM\nWNdkXUtEgIAIsE8TN8C93X0HojN/yt17R1zpVuCNZtaSbT6edW+cvYmYWqiMTCvTHP/LujdZnyEu\nqvnAJdkGTwBXE+f908AP3b26rm+rOufPZP6XVbXfn/J4K32rHXimcp6r8t3l7rvk8pPAA+7+RFV/\n/APRt2cRo8JK+gHEyPedxA3uZ2Z2EvAvud2nK41jZu8ipn8q56WHeOqpzXsD0X9Pz7ZZUtO3n8my\nP8ypi+uJqZDKG6XnAH9098OJUeyj2XYLcz+VQH6NmZ2d2z2cGKn3ECPVjxDXWeU4zyCmVKdm+R5i\noPCFbJOjiNH9BOAgdz+MCO6PEtfE79nwer6O9fv+F8mbcfaza/OY3u3xPmHtdXYDNddzHuO5WafD\ns64TgJvNrPJ+3QHZ1mtZN7X3N2IQ9xTxZDmVeCq4hbg2TshjOp0YFL0b+JGZ7Z/lJ2T7bdCf+4h7\nDY2ab9ms+vTOvsQIq414pKn4JPEm3TNEp59BzBleSVxULyKmEk4nLrxbiIDUDbzD3Rea2b3E1Mq5\nRGBeVrX9E4lgVXmX/3FimqiV6LTTgHcQJ3gN8ej3GnK+L7exkhgVfTHzb02M/iFO/jtZN+96HzGi\nuSvr9ENiOmBH4hGzlXjn/mXu/njOZ1bKVXyEeKweS4xKDnf332d7TiJGoVcTTxv/UZ3u7lPM7MWs\n+/TO34F3ufuCzHcOcXOqfGJjLPFm2xVm9rzcdnu2+yPZ9l8kHmlvYt0nNT5MdNbPZLu9EHhDjgIr\n+3nC49M7XyaecFqJUc+Hsp7HEk8Xz8nz8nAe/1m5zzHZVq/Meswhzr0RQeInRADZOY9jNREsf068\nKXgAcRF/zN1/VNVOtX3rAuD/ufuUygmobs9c/mVuf3vW9cdWou/umft/gHU3sc/kvnfO/XQRn/L4\nO/HeyQXufnY+ldyR5f+Ux/2t2rzEk8Zbsq2fyfNxPNG3e48z93NV1uEvme+ZbPe52aaV9w1+m/va\nLfdzEjEy/3oeE8TN/nPEIONJop92E2+cX0tM51T+LSDe5J9DXC89RIA+PaehKv1iGvHU1E3N9Uz0\ngdlU9f2sS6Wf3Uj03ZkenzirXPuV6+wTrH89OxFjvpLbac3zdFoe33wiJnUTfecJYqppbNb//Zn2\nlWzHfbPdy8R7lN2Z3k48xYwnpunGEE8qe2SZL7F+f35B1TbXsP50ZV2jJuiLiMimG03TOyIisokU\n9EVECkRBX0SkQBT0RUQKREFfRKRAFPRFRApEQV9EpED+D6h8kCBABlHoAAAAAElFTkSuQmCC\n",
      "text/plain": [
       "<matplotlib.figure.Figure at 0x74f19e94a8>"
      ]
     },
     "metadata": {},
     "output_type": "display_data"
    }
   ],
   "source": [
    "import numpy as np\n",
    "import matplotlib.pyplot as plt\n",
    "\n",
    "from sklearn.datasets import make_classification\n",
    "from sklearn.ensemble import RandomForestClassifier\n",
    "\n",
    "X = signal_array[:,:-2]\n",
    "X = np.hstack((X[:,:14],X[:,15:]))\n",
    "y = signal_array[:,-1]\n",
    "# Build a forest and compute the feature importances\n",
    "forest = RandomForestClassifier(n_estimators=250,\n",
    "                              random_state=0)\n",
    "\n",
    "forest.fit(X, y)\n",
    "importances = forest.feature_importances_\n",
    "std = np.std([tree.feature_importances_ for tree in forest.estimators_],\n",
    "             axis=0)\n",
    "indices = np.argsort(importances)[::-1]\n",
    "\n",
    "# Print the feature ranking\n",
    "print(\"Feature ranking:\")\n",
    "\n",
    "for f in range(X.shape[1]):\n",
    "    print(\"%d. feature %s (%f)\" % (f + 1, feature_names[indices[f]], importances[indices[f]]))\n",
    "\n",
    "# Plot the feature importances of the forest\n",
    "plt.figure()\n",
    "plt.title(\"Feature importances\")\n",
    "plt.bar(range(X.shape[1]), importances[indices],\n",
    "       color=\"r\", yerr=std[indices], align=\"center\")\n",
    "plt.xticks(range(X.shape[1]), indices)\n",
    "plt.xlim([-1, X.shape[1]])\n",
    "plt.show()"
   ]
  },
  {
   "cell_type": "code",
   "execution_count": 39,
   "metadata": {},
   "outputs": [
    {
     "data": {
      "image/png": "iVBORw0KGgoAAAANSUhEUgAAAYAAAAEFCAYAAADqujDUAAAABHNCSVQICAgIfAhkiAAAAAlwSFlz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\nRIGSBCCEEAVKEoAQQhSo/w05FhFBDvdkaQAAAABJRU5ErkJggg==\n",
      "text/plain": [
       "<matplotlib.figure.Figure at 0x74f1a19a20>"
      ]
     },
     "metadata": {},
     "output_type": "display_data"
    }
   ],
   "source": [
    "ax = sns.regplot(x=\"age\", y=\"y=yes\", order=3, data=df, truncate=True)"
   ]
  },
  {
   "cell_type": "code",
   "execution_count": 40,
   "metadata": {},
   "outputs": [
    {
     "data": {
      "image/png": "iVBORw0KGgoAAAANSUhEUgAAAYYAAAEFCAYAAADnpECTAAAABHNCSVQICAgIfAhkiAAAAAlwSFlz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\nrkJggg==\n",
      "text/plain": [
       "<matplotlib.figure.Figure at 0x74f2190278>"
      ]
     },
     "metadata": {},
     "output_type": "display_data"
    }
   ],
   "source": [
    "ax = sns.regplot(x=\"campaign\", y=\"y=yes\", order=1, data=df, truncate=True)"
   ]
  },
  {
   "cell_type": "code",
   "execution_count": 41,
   "metadata": {},
   "outputs": [
    {
     "data": {
      "text/html": [
       "<div>\n",
       "<style>\n",
       "    .dataframe thead tr:only-child th {\n",
       "        text-align: right;\n",
       "    }\n",
       "\n",
       "    .dataframe thead th {\n",
       "        text-align: left;\n",
       "    }\n",
       "\n",
       "    .dataframe tbody tr th {\n",
       "        vertical-align: top;\n",
       "    }\n",
       "</style>\n",
       "<table border=\"1\" class=\"dataframe\">\n",
       "  <thead>\n",
       "    <tr style=\"text-align: right;\">\n",
       "      <th></th>\n",
       "      <th>age</th>\n",
       "      <th>campaign</th>\n",
       "      <th>cons.conf.idx</th>\n",
       "      <th>cons.price.idx</th>\n",
       "      <th>contact=cellular</th>\n",
       "      <th>contact=telephone</th>\n",
       "      <th>day_of_week=fri</th>\n",
       "      <th>day_of_week=mon</th>\n",
       "      <th>day_of_week=thu</th>\n",
       "      <th>day_of_week=tue</th>\n",
       "      <th>...</th>\n",
       "      <th>month=oct</th>\n",
       "      <th>month=sep</th>\n",
       "      <th>nr.employed</th>\n",
       "      <th>pdays</th>\n",
       "      <th>poutcome=failure</th>\n",
       "      <th>poutcome=nonexistent</th>\n",
       "      <th>poutcome=success</th>\n",
       "      <th>previous</th>\n",
       "      <th>y=no</th>\n",
       "      <th>y=yes</th>\n",
       "    </tr>\n",
       "  </thead>\n",
       "  <tbody>\n",
       "    <tr>\n",
       "      <th>3219</th>\n",
       "      <td>39.0</td>\n",
       "      <td>23.0</td>\n",
       "      <td>-36.4</td>\n",
       "      <td>93.994</td>\n",
       "      <td>0.0</td>\n",
       "      <td>1.0</td>\n",
       "      <td>0.0</td>\n",
       "      <td>0.0</td>\n",
       "      <td>1.0</td>\n",
       "      <td>0.0</td>\n",
       "      <td>...</td>\n",
       "      <td>0.0</td>\n",
       "      <td>0.0</td>\n",
       "      <td>5191.0</td>\n",
       "      <td>999.0</td>\n",
       "      <td>0.0</td>\n",
       "      <td>1.0</td>\n",
       "      <td>0.0</td>\n",
       "      <td>0.0</td>\n",
       "      <td>0.0</td>\n",
       "      <td>1.0</td>\n",
       "    </tr>\n",
       "    <tr>\n",
       "      <th>10162</th>\n",
       "      <td>44.0</td>\n",
       "      <td>17.0</td>\n",
       "      <td>-41.8</td>\n",
       "      <td>94.465</td>\n",
       "      <td>0.0</td>\n",
       "      <td>1.0</td>\n",
       "      <td>0.0</td>\n",
       "      <td>0.0</td>\n",
       "      <td>1.0</td>\n",
       "      <td>0.0</td>\n",
       "      <td>...</td>\n",
       "      <td>0.0</td>\n",
       "      <td>0.0</td>\n",
       "      <td>5228.1</td>\n",
       "      <td>999.0</td>\n",
       "      <td>0.0</td>\n",
       "      <td>1.0</td>\n",
       "      <td>0.0</td>\n",
       "      <td>0.0</td>\n",
       "      <td>0.0</td>\n",
       "      <td>1.0</td>\n",
       "    </tr>\n",
       "    <tr>\n",
       "      <th>17284</th>\n",
       "      <td>59.0</td>\n",
       "      <td>17.0</td>\n",
       "      <td>-42.7</td>\n",
       "      <td>93.918</td>\n",
       "      <td>1.0</td>\n",
       "      <td>0.0</td>\n",
       "      <td>1.0</td>\n",
       "      <td>0.0</td>\n",
       "      <td>0.0</td>\n",
       "      <td>0.0</td>\n",
       "      <td>...</td>\n",
       "      <td>0.0</td>\n",
       "      <td>0.0</td>\n",
       "      <td>5228.1</td>\n",
       "      <td>999.0</td>\n",
       "      <td>0.0</td>\n",
       "      <td>1.0</td>\n",
       "      <td>0.0</td>\n",
       "      <td>0.0</td>\n",
       "      <td>0.0</td>\n",
       "      <td>1.0</td>\n",
       "    </tr>\n",
       "    <tr>\n",
       "      <th>17655</th>\n",
       "      <td>50.0</td>\n",
       "      <td>17.0</td>\n",
       "      <td>-42.7</td>\n",
       "      <td>93.918</td>\n",
       "      <td>0.0</td>\n",
       "      <td>1.0</td>\n",
       "      <td>0.0</td>\n",
       "      <td>1.0</td>\n",
       "      <td>0.0</td>\n",
       "      <td>0.0</td>\n",
       "      <td>...</td>\n",
       "      <td>0.0</td>\n",
       "      <td>0.0</td>\n",
       "      <td>5228.1</td>\n",
       "      <td>999.0</td>\n",
       "      <td>0.0</td>\n",
       "      <td>1.0</td>\n",
       "      <td>0.0</td>\n",
       "      <td>0.0</td>\n",
       "      <td>0.0</td>\n",
       "      <td>1.0</td>\n",
       "    </tr>\n",
       "    <tr>\n",
       "      <th>29980</th>\n",
       "      <td>31.0</td>\n",
       "      <td>17.0</td>\n",
       "      <td>-47.1</td>\n",
       "      <td>93.075</td>\n",
       "      <td>0.0</td>\n",
       "      <td>1.0</td>\n",
       "      <td>0.0</td>\n",
       "      <td>0.0</td>\n",
       "      <td>0.0</td>\n",
       "      <td>1.0</td>\n",
       "      <td>...</td>\n",
       "      <td>0.0</td>\n",
       "      <td>0.0</td>\n",
       "      <td>5099.1</td>\n",
       "      <td>999.0</td>\n",
       "      <td>0.0</td>\n",
       "      <td>1.0</td>\n",
       "      <td>0.0</td>\n",
       "      <td>0.0</td>\n",
       "      <td>0.0</td>\n",
       "      <td>1.0</td>\n",
       "    </tr>\n",
       "  </tbody>\n",
       "</table>\n",
       "<p>5 rows × 65 columns</p>\n",
       "</div>"
      ],
      "text/plain": [
       "        age  campaign  cons.conf.idx  cons.price.idx  contact=cellular  \\\n",
       "3219   39.0      23.0          -36.4          93.994               0.0   \n",
       "10162  44.0      17.0          -41.8          94.465               0.0   \n",
       "17284  59.0      17.0          -42.7          93.918               1.0   \n",
       "17655  50.0      17.0          -42.7          93.918               0.0   \n",
       "29980  31.0      17.0          -47.1          93.075               0.0   \n",
       "\n",
       "       contact=telephone  day_of_week=fri  day_of_week=mon  day_of_week=thu  \\\n",
       "3219                 1.0              0.0              0.0              1.0   \n",
       "10162                1.0              0.0              0.0              1.0   \n",
       "17284                0.0              1.0              0.0              0.0   \n",
       "17655                1.0              0.0              1.0              0.0   \n",
       "29980                1.0              0.0              0.0              0.0   \n",
       "\n",
       "       day_of_week=tue  ...    month=oct  month=sep  nr.employed  pdays  \\\n",
       "3219               0.0  ...          0.0        0.0       5191.0  999.0   \n",
       "10162              0.0  ...          0.0        0.0       5228.1  999.0   \n",
       "17284              0.0  ...          0.0        0.0       5228.1  999.0   \n",
       "17655              0.0  ...          0.0        0.0       5228.1  999.0   \n",
       "29980              1.0  ...          0.0        0.0       5099.1  999.0   \n",
       "\n",
       "       poutcome=failure  poutcome=nonexistent  poutcome=success  previous  \\\n",
       "3219                0.0                   1.0               0.0       0.0   \n",
       "10162               0.0                   1.0               0.0       0.0   \n",
       "17284               0.0                   1.0               0.0       0.0   \n",
       "17655               0.0                   1.0               0.0       0.0   \n",
       "29980               0.0                   1.0               0.0       0.0   \n",
       "\n",
       "       y=no  y=yes  \n",
       "3219    0.0    1.0  \n",
       "10162   0.0    1.0  \n",
       "17284   0.0    1.0  \n",
       "17655   0.0    1.0  \n",
       "29980   0.0    1.0  \n",
       "\n",
       "[5 rows x 65 columns]"
      ]
     },
     "execution_count": 41,
     "metadata": {},
     "output_type": "execute_result"
    }
   ],
   "source": [
    "df.loc[(df['campaign'] >15) & (df['y=yes']==1)]"
   ]
  },
  {
   "cell_type": "code",
   "execution_count": 42,
   "metadata": {},
   "outputs": [
    {
     "data": {
      "image/png": "iVBORw0KGgoAAAANSUhEUgAAAYAAAAEFCAYAAADqujDUAAAABHNCSVQICAgIfAhkiAAAAAlwSFlz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\n",
      "text/plain": [
       "<matplotlib.figure.Figure at 0x74f2252390>"
      ]
     },
     "metadata": {},
     "output_type": "display_data"
    }
   ],
   "source": [
    "ax = sns.regplot(x=\"emp.var.rate\", y=\"y=yes\", order=1, data=df, truncate=True)"
   ]
  },
  {
   "cell_type": "code",
   "execution_count": 43,
   "metadata": {},
   "outputs": [
    {
     "data": {
      "image/png": "iVBORw0KGgoAAAANSUhEUgAAAYAAAAEFCAYAAADqujDUAAAABHNCSVQICAgIfAhkiAAAAAlwSFlz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\nAUBExKMUAEREPEoBQETEo/4/d020hTA6zcsAAAAASUVORK5CYII=\n",
      "text/plain": [
       "<matplotlib.figure.Figure at 0x74f19789b0>"
      ]
     },
     "metadata": {},
     "output_type": "display_data"
    }
   ],
   "source": [
    "ax = sns.regplot(x=\"nr.employed\", y=\"y=yes\", order=1, data=df, truncate=True)"
   ]
  },
  {
   "cell_type": "code",
   "execution_count": 44,
   "metadata": {},
   "outputs": [
    {
     "data": {
      "image/png": "iVBORw0KGgoAAAANSUhEUgAAAYAAAAEFCAYAAADqujDUAAAABHNCSVQICAgIfAhkiAAAAAlwSFlz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\n",
      "text/plain": [
       "<matplotlib.figure.Figure at 0x74f1b19dd8>"
      ]
     },
     "metadata": {},
     "output_type": "display_data"
    }
   ],
   "source": [
    "ax = sns.regplot(x=\"age\", y=\"y=yes\", order=1, data=df, truncate=True)"
   ]
  },
  {
   "cell_type": "code",
   "execution_count": 45,
   "metadata": {},
   "outputs": [
    {
     "data": {
      "image/png": "iVBORw0KGgoAAAANSUhEUgAAAYEAAAEFCAYAAAAFeFvqAAAABHNCSVQICAgIfAhkiAAAAAlwSFlz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\negjOpeJFPRgAAAAASUVORK5CYII=\n",
      "text/plain": [
       "<matplotlib.figure.Figure at 0x74f2181fd0>"
      ]
     },
     "metadata": {},
     "output_type": "display_data"
    }
   ],
   "source": [
    "ax = sns.regplot(x=\"duration\", y=\"y=yes\", order=1, data=df, truncate=True)"
   ]
  },
  {
   "cell_type": "code",
   "execution_count": 60,
   "metadata": {},
   "outputs": [
    {
     "data": {
      "image/png": "iVBORw0KGgoAAAANSUhEUgAAAYAAAAEFCAYAAADqujDUAAAABHNCSVQICAgIfAhkiAAAAAlwSFlz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\nFcoAkKRCGQCSVCgDQJIKZQBIUqH+P+yEmtKNFnGSAAAAAElFTkSuQmCC\n",
      "text/plain": [
       "<matplotlib.figure.Figure at 0x74f2288128>"
      ]
     },
     "metadata": {},
     "output_type": "display_data"
    }
   ],
   "source": [
    "ax = sns.regplot(x=\"contact=telephone\", y=\"y=yes\", order=1, data=df, truncate=True)"
   ]
  },
  {
   "cell_type": "code",
   "execution_count": 61,
   "metadata": {},
   "outputs": [
    {
     "data": {
      "image/png": "iVBORw0KGgoAAAANSUhEUgAAAYAAAAEFCAYAAADqujDUAAAABHNCSVQICAgIfAhkiAAAAAlwSFlz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\n",
      "text/plain": [
       "<matplotlib.figure.Figure at 0x74ed4aee80>"
      ]
     },
     "metadata": {},
     "output_type": "display_data"
    }
   ],
   "source": [
    "ax = sns.regplot(x=\"month=sep\", y=\"y=yes\", order=1, data=df, truncate=True)"
   ]
  },
  {
   "cell_type": "code",
   "execution_count": 62,
   "metadata": {},
   "outputs": [
    {
     "data": {
      "image/png": "iVBORw0KGgoAAAANSUhEUgAAAYAAAAEFCAYAAADqujDUAAAABHNCSVQICAgIfAhkiAAAAAlwSFlz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\nahtpotM0AAAAAElFTkSuQmCC\n",
      "text/plain": [
       "<matplotlib.figure.Figure at 0x74f2574898>"
      ]
     },
     "metadata": {},
     "output_type": "display_data"
    }
   ],
   "source": [
    "ax = sns.regplot(x=\"cons.conf.idx\", y=\"y=yes\", order=1, data=df, truncate=True)"
   ]
  },
  {
   "cell_type": "code",
   "execution_count": 63,
   "metadata": {},
   "outputs": [
    {
     "data": {
      "image/png": "iVBORw0KGgoAAAANSUhEUgAAAYAAAAEFCAYAAADqujDUAAAABHNCSVQICAgIfAhkiAAAAAlwSFlz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\n",
      "text/plain": [
       "<matplotlib.figure.Figure at 0x74f186fb70>"
      ]
     },
     "metadata": {},
     "output_type": "display_data"
    }
   ],
   "source": [
    "ax = sns.regplot(x=\"poutcome=nonexistent\", y=\"y=yes\", order=1, data=df, truncate=True)"
   ]
  },
  {
   "cell_type": "code",
   "execution_count": null,
   "metadata": {
    "collapsed": true
   },
   "outputs": [],
   "source": [
    "ax = sns.regplot(x=\"education=unknown\", y=\"y=yes\", order=1, data=df, truncate=True)"
   ]
  },
  {
   "cell_type": "code",
   "execution_count": null,
   "metadata": {
    "collapsed": true
   },
   "outputs": [],
   "source": [
    "ax = sns.regplot(x=\"euribor3m\", y=\"y=yes\", order=1, data=df, truncate=True)"
   ]
  },
  {
   "cell_type": "code",
   "execution_count": null,
   "metadata": {
    "collapsed": true
   },
   "outputs": [],
   "source": [
    "ax = sns.regplot(x=\"housing=unknown\", y=\"y=yes\", order=1, data=df, truncate=True)"
   ]
  },
  {
   "cell_type": "code",
   "execution_count": null,
   "metadata": {
    "collapsed": true
   },
   "outputs": [],
   "source": [
    "ax = sns.regplot(x=\"housing=yes\", y=\"y=yes\", order=1, data=df, truncate=True)"
   ]
  },
  {
   "cell_type": "code",
   "execution_count": 46,
   "metadata": {},
   "outputs": [
    {
     "data": {
      "text/plain": [
       "0.043875408967982296"
      ]
     },
     "execution_count": 46,
     "metadata": {},
     "output_type": "execute_result"
    }
   ],
   "source": [
    "# Total Conversion ratio\n",
    "sum(df['y=yes'])/sum(df['campaign'])"
   ]
  },
  {
   "cell_type": "code",
   "execution_count": 48,
   "metadata": {},
   "outputs": [
    {
     "name": "stdout",
     "output_type": "stream",
     "text": [
      "Nth Call \t Efficiency\n",
      "1 \t\t 0.0558415072351\n",
      "2 \t\t 0.0514312409751\n",
      "3 \t\t 0.0442355117139\n",
      "4 \t\t 0.0326129666012\n",
      "5 \t\t 0.024077046549\n",
      "6 \t\t 0.0221565731167\n",
      "7 \t\t 0.0157938487116\n",
      "8 \t\t 0.00956668542487\n",
      "9 \t\t 0.0123456790123\n",
      "10 \t\t 0.0109689213894\n",
      "11 \t\t 0.0138089758343\n",
      "12 \t\t 0.00433526011561\n",
      "13 \t\t 0.00705467372134\n",
      "14 \t\t 0.00210526315789\n",
      "15 \t\t 0.00492610837438\n",
      "16 \t\t 0.0\n",
      "17 \t\t 0.0131578947368\n",
      "18 \t\t 0.0\n",
      "19 \t\t 0.0\n",
      "20 \t\t 0.0\n",
      "21 \t\t 0.0\n",
      "22 \t\t 0.0\n",
      "23 \t\t 0.00862068965517\n",
      "24 \t\t 0.0\n",
      "25 \t\t 0.0\n",
      "26 \t\t 0.0\n",
      "27 \t\t 0.0\n",
      "28 \t\t 0.0\n",
      "29 \t\t 0.0\n"
     ]
    }
   ],
   "source": [
    "# Now let's see efficiancy on every additional call\n",
    "print (\"Nth Call \\t Efficiency\")\n",
    "for i in range(1,30):\n",
    "    goo = sum(df.loc[df['campaign']==i]['y=yes']) / float(df.loc[df['campaign'] >= i].shape[0])\n",
    "    print (str((i))+\" \\t\\t \"+str(goo))"
   ]
  },
  {
   "cell_type": "code",
   "execution_count": 49,
   "metadata": {},
   "outputs": [
    {
     "name": "stdout",
     "output_type": "stream",
     "text": [
      "For age upto 30\n",
      "Nth Call \t Efficiency\n",
      "1 \t\t 0.07502708559046588\n",
      "2 \t\t 0.07100309745055992\n",
      "3 \t\t 0.06274509803921569\n",
      "4 \t\t 0.04447739065974796\n",
      "5 \t\t 0.03882352941176471\n",
      "6 \t\t 0.02058319039451115\n",
      "7 \t\t 0.030805687203791468\n",
      "8 \t\t 0.006493506493506494\n",
      "9 \t\t 0.012875536480686695\n",
      "10 \t\t 0.005376344086021506\n",
      "11 \t\t 0.013888888888888888\n",
      "12 \t\t 0.0\n",
      "13 \t\t 0.010869565217391304\n",
      "14 \t\t 0.0\n",
      "15 \t\t 0.014705882352941176\n",
      "16 \t\t 0.0\n",
      "17 \t\t 0.0\n",
      "18 \t\t 0.0\n",
      "19 \t\t 0.0\n",
      "20 \t\t 0.0\n",
      "21 \t\t 0.0\n",
      "22 \t\t 0.0\n",
      "23 \t\t 0.0\n",
      "24 \t\t 0.0\n",
      "25 \t\t 0.0\n",
      "26 \t\t 0.0\n",
      "27 \t\t 0.0\n",
      "28 \t\t 0.0\n",
      "29 \t\t 0.0\n"
     ]
    }
   ],
   "source": [
    "print(\"For age upto 30\")\n",
    "print (\"Nth Call \\t Efficiency\")\n",
    "for i in range(1,30):\n",
    "    num = float(df[(df['age'] <= 30) & (df['campaign']==i) & (df['y=yes']==1)].shape[0])\n",
    "    den = 1+float(df[(df['age'] <= 30) & (df['campaign'] >= i)].shape[0])\n",
    "    print (str((i))+\" \\t\\t \"+str(num/den))"
   ]
  },
  {
   "cell_type": "code",
   "execution_count": 50,
   "metadata": {},
   "outputs": [
    {
     "name": "stdout",
     "output_type": "stream",
     "text": [
      "For age between 30-40\n",
      "Nth Call \t Efficiency\n",
      "1 \t\t 0.04882216526302942\n",
      "2 \t\t 0.042643923240938165\n",
      "3 \t\t 0.04005444293214078\n",
      "4 \t\t 0.028093645484949834\n",
      "5 \t\t 0.02048131080389145\n",
      "6 \t\t 0.024279210925644917\n",
      "7 \t\t 0.007494646680942184\n",
      "8 \t\t 0.008746355685131196\n",
      "9 \t\t 0.011538461538461539\n",
      "10 \t\t 0.011990407673860911\n",
      "11 \t\t 0.015015015015015015\n",
      "12 \t\t 0.0076045627376425855\n",
      "13 \t\t 0.009523809523809525\n",
      "14 \t\t 0.0\n",
      "15 \t\t 0.0\n",
      "16 \t\t 0.0\n",
      "17 \t\t 0.009259259259259259\n",
      "18 \t\t 0.0\n",
      "19 \t\t 0.0\n",
      "20 \t\t 0.0\n",
      "21 \t\t 0.0\n",
      "22 \t\t 0.0\n",
      "23 \t\t 0.02040816326530612\n",
      "24 \t\t 0.0\n",
      "25 \t\t 0.0\n",
      "26 \t\t 0.0\n",
      "27 \t\t 0.0\n",
      "28 \t\t 0.0\n",
      "29 \t\t 0.0\n"
     ]
    }
   ],
   "source": [
    "print(\"For age between 30-40\")\n",
    "print (\"Nth Call \\t Efficiency\")\n",
    "for i in range(1,30):\n",
    "    num = float(df[(df['age'] <= 40) & (df['age'] > 30) & (df['campaign']==i) & (df['y=yes']==1)].shape[0])\n",
    "    den = 1+float(df[(df['age'] <= 40) & (df['age'] > 30) & (df['campaign'] >= i)].shape[0])\n",
    "    print (str((i))+\" \\t\\t \"+str(num/den))"
   ]
  },
  {
   "cell_type": "code",
   "execution_count": 51,
   "metadata": {},
   "outputs": [
    {
     "name": "stdout",
     "output_type": "stream",
     "text": [
      "For age between 40-50\n",
      "Nth Call \t Efficiency\n",
      "1 \t\t 0.03925397910360316\n",
      "2 \t\t 0.036345108695652176\n",
      "3 \t\t 0.03047676523838262\n",
      "4 \t\t 0.027820710973724884\n",
      "5 \t\t 0.020737327188940093\n",
      "6 \t\t 0.016853932584269662\n",
      "7 \t\t 0.008012820512820512\n",
      "8 \t\t 0.008368200836820083\n",
      "9 \t\t 0.005333333333333333\n",
      "10 \t\t 0.013888888888888888\n",
      "11 \t\t 0.017316017316017316\n",
      "12 \t\t 0.005434782608695652\n",
      "13 \t\t 0.006622516556291391\n",
      "14 \t\t 0.007936507936507936\n",
      "15 \t\t 0.0\n",
      "16 \t\t 0.0\n",
      "17 \t\t 0.023529411764705882\n",
      "18 \t\t 0.0\n",
      "19 \t\t 0.0\n",
      "20 \t\t 0.0\n",
      "21 \t\t 0.0\n",
      "22 \t\t 0.0\n",
      "23 \t\t 0.0\n",
      "24 \t\t 0.0\n",
      "25 \t\t 0.0\n",
      "26 \t\t 0.0\n",
      "27 \t\t 0.0\n",
      "28 \t\t 0.0\n",
      "29 \t\t 0.0\n"
     ]
    }
   ],
   "source": [
    "print(\"For age between 40-50\")\n",
    "print (\"Nth Call \\t Efficiency\")\n",
    "for i in range(1,30):\n",
    "    num = float(df[(df['age'] <= 50) & (df['age'] > 40) & (df['campaign']==i) & (df['y=yes']==1)].shape[0])\n",
    "    den = 1+float(df[(df['age'] <= 50) & (df['age'] > 40) & (df['campaign'] >= i)].shape[0])\n",
    "    print (str((i))+\" \\t\\t \"+str(num/den))"
   ]
  },
  {
   "cell_type": "code",
   "execution_count": 52,
   "metadata": {},
   "outputs": [
    {
     "name": "stdout",
     "output_type": "stream",
     "text": [
      "For age between 50-60\n",
      "Nth Call \t Efficiency\n",
      "1 \t\t 0.050709615691277306\n",
      "2 \t\t 0.05120481927710843\n",
      "3 \t\t 0.040806293018682396\n",
      "4 \t\t 0.024681528662420384\n",
      "5 \t\t 0.016766467065868262\n",
      "6 \t\t 0.02120141342756184\n",
      "7 \t\t 0.022004889975550123\n",
      "8 \t\t 0.013559322033898305\n",
      "9 \t\t 0.024489795918367346\n",
      "10 \t\t 0.009900990099009901\n",
      "11 \t\t 0.0\n",
      "12 \t\t 0.0\n",
      "13 \t\t 0.0\n",
      "14 \t\t 0.0\n",
      "15 \t\t 0.011363636363636364\n",
      "16 \t\t 0.0\n",
      "17 \t\t 0.016129032258064516\n",
      "18 \t\t 0.0\n",
      "19 \t\t 0.0\n",
      "20 \t\t 0.0\n",
      "21 \t\t 0.0\n",
      "22 \t\t 0.0\n",
      "23 \t\t 0.0\n",
      "24 \t\t 0.0\n",
      "25 \t\t 0.0\n",
      "26 \t\t 0.0\n",
      "27 \t\t 0.0\n",
      "28 \t\t 0.0\n",
      "29 \t\t 0.0\n"
     ]
    }
   ],
   "source": [
    "print(\"For age between 50-60\")\n",
    "print (\"Nth Call \\t Efficiency\")\n",
    "for i in range(1,30):\n",
    "    num = float(df[(df['age'] <= 60) & (df['age'] > 50) & (df['campaign']==i) & (df['y=yes']==1)].shape[0])\n",
    "    den = 1+float(df[(df['age'] <= 60) & (df['age'] > 50) & (df['campaign'] >= i)].shape[0])\n",
    "    print (str((i))+\" \\t\\t \"+str(num/den))"
   ]
  },
  {
   "cell_type": "code",
   "execution_count": 53,
   "metadata": {},
   "outputs": [
    {
     "name": "stdout",
     "output_type": "stream",
     "text": [
      "For age above 60\n",
      "Nth Call \t Efficiency\n",
      "1 \t\t 0.24807903402854006\n",
      "2 \t\t 0.25806451612903225\n",
      "3 \t\t 0.20512820512820512\n",
      "4 \t\t 0.19230769230769232\n",
      "5 \t\t 0.12244897959183673\n",
      "6 \t\t 0.12121212121212122\n",
      "7 \t\t 0.18181818181818182\n",
      "8 \t\t 0.06666666666666667\n",
      "9 \t\t 0.0\n",
      "10 \t\t 0.0\n",
      "11 \t\t 0.16666666666666666\n",
      "12 \t\t 0.0\n",
      "13 \t\t 0.0\n",
      "14 \t\t 0.0\n",
      "15 \t\t 0.0\n",
      "16 \t\t 0.0\n",
      "17 \t\t 0.0\n",
      "18 \t\t 0.0\n",
      "19 \t\t 0.0\n",
      "20 \t\t 0.0\n",
      "21 \t\t 0.0\n",
      "22 \t\t 0.0\n",
      "23 \t\t 0.0\n",
      "24 \t\t 0.0\n",
      "25 \t\t 0.0\n",
      "26 \t\t 0.0\n",
      "27 \t\t 0.0\n",
      "28 \t\t 0.0\n",
      "29 \t\t 0.0\n"
     ]
    }
   ],
   "source": [
    "print(\"For age above 60\")\n",
    "print (\"Nth Call \\t Efficiency\")\n",
    "for i in range(1,30):\n",
    "    num = float(df[(df['age'] > 60) & (df['campaign']==i) & (df['y=yes']==1)].shape[0])\n",
    "    den = float(df[(df['age'] > 60) & (df['campaign'] >= i)].shape[0])+1\n",
    "    print (str((i))+\" \\t\\t \"+str(num/den))"
   ]
  },
  {
   "cell_type": "code",
   "execution_count": 54,
   "metadata": {},
   "outputs": [
    {
     "name": "stdout",
     "output_type": "stream",
     "text": [
      "105754.0\n"
     ]
    }
   ],
   "source": [
    "# Calculate how many calls were made in total\n",
    "total_calls = sum(df['campaign'])\n",
    "print(total_calls)"
   ]
  },
  {
   "cell_type": "code",
   "execution_count": 55,
   "metadata": {},
   "outputs": [
    {
     "name": "stdout",
     "output_type": "stream",
     "text": [
      "12040.0\n"
     ]
    }
   ],
   "source": [
    "# Calculate how many calls were made after the 6th call\n",
    "extra_calls = sum(df[df['campaign']>6]['campaign']) - 6*df[df['campaign']>6].shape[0]\n",
    "print(extra_calls)"
   ]
  },
  {
   "cell_type": "code",
   "execution_count": 56,
   "metadata": {},
   "outputs": [
    {
     "name": "stdout",
     "output_type": "stream",
     "text": [
      "11.3849121546\n"
     ]
    }
   ],
   "source": [
    "# Calculate reduction in marketing cost\n",
    "reduction=100*extra_calls/total_calls\n",
    "print(reduction)"
   ]
  },
  {
   "cell_type": "code",
   "execution_count": 57,
   "metadata": {},
   "outputs": [
    {
     "name": "stdout",
     "output_type": "stream",
     "text": [
      "4640.0\n"
     ]
    }
   ],
   "source": [
    "total_sales=float(df[df['y=yes']==1].shape[0])\n",
    "print(total_sales)"
   ]
  },
  {
   "cell_type": "code",
   "execution_count": 58,
   "metadata": {},
   "outputs": [
    {
     "name": "stdout",
     "output_type": "stream",
     "text": [
      "4529.0\n"
     ]
    }
   ],
   "source": [
    "less_costly_sales=float(df[(df['campaign'] <= 6) & (df['y=yes']==1)].shape[0])\n",
    "print(less_costly_sales)"
   ]
  },
  {
   "cell_type": "code",
   "execution_count": 59,
   "metadata": {},
   "outputs": [
    {
     "name": "stdout",
     "output_type": "stream",
     "text": [
      "97.60775862068965\n"
     ]
    }
   ],
   "source": [
    "sales_percent=100*less_costly_sales/total_sales\n",
    "print(sales_percent)"
   ]
  }
 ],
 "metadata": {
  "kernelspec": {
   "display_name": "Python 3",
   "language": "python",
   "name": "python3"
  },
  "language_info": {
   "codemirror_mode": {
    "name": "ipython",
    "version": 3
   },
   "file_extension": ".py",
   "mimetype": "text/x-python",
   "name": "python",
   "nbconvert_exporter": "python",
   "pygments_lexer": "ipython3",
   "version": "3.6.1"
  }
 },
 "nbformat": 4,
 "nbformat_minor": 2
}
Reduction of about 11.4% in marketing cost can be achieved while maintaining 97.6% sales if any person is called a maximum of 6 times.
